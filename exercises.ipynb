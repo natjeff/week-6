{
  "cells": [
    {
      "cell_type": "markdown",
      "id": "ded28f26",
      "metadata": {},
      "source": [
        "<font color='darkred'> Unless otherwise noted, **this notebook will not be reviewed or autograded.**</font> You are welcome to use it for scratchwork, but **only the files listed in the exercises will be checked.**\n",
        "\n",
        "---\n",
        "\n",
        "# Exercises\n",
        "\n",
        "For these exercises, you'll be creating a [Python class](https://www.hackerearth.com/practice/python/object-oriented-programming/classes-and-objects-i/tutorial/) in the *apputil.py* file.\n",
        "\n",
        "A few tips:\n",
        "\n",
        "- Some of these exercises will require some \"JSON digging\".\n",
        "- <font color='lightblue'>Your functions should still adhere to [best practices](https://codesignal.com/learn/courses/clean-code-basics-with-python/lessons/clean-function-design-in-python), so **your class should probably contain more functions than only the ones dictated below**.</font>\n"
      ]
    },
    {
      "cell_type": "markdown",
      "id": "951027e2",
      "metadata": {},
      "source": [
        "## Exercise 1\n",
        "\n",
        "Create a Python class named `Genius` such that the following code initializes the object, and \"saves\" the access token as an attribute of the object. You'll need to use this attribute for Exercises 2 and 3.\n",
        "\n",
        "```python\n",
        "from apputil import Genius\n",
        "\n",
        "genius = Genius(access_token=\"access_token\")\n",
        "```"
      ]
    },
    {
      "cell_type": "code",
      "execution_count": null,
      "id": "c56ab5cb",
      "metadata": {},
      "outputs": [
        {
          "name": "stdout",
          "output_type": "stream",
          "text": [
            "Genius initialized with access token: access_token\n",
            "access_token\n"
          ]
        }
      ],
      "source": [
        "\n",
        "# Define the Genius class\n",
        "class Genius:\n",
        "    \"\"\"Class\"\"\"\n",
        "\n",
        "    def __init__(self, access_token):\n",
        "        \"\"\"\n",
        "        Initialize the Genius class.\n",
        "        \"\"\"\n",
        "        # Save the access token\n",
        "        self.access_token = access_token\n",
        "\n",
        "        # Print for confirmation\n",
        "        print(f\"Genius initialized with access token: {self.access_token}\")\n",
        "\n",
        "\n",
        "# Test the Genius class\n",
        "if __name__ == \"__main__\":\n",
        "    # Create a Genius object\n",
        "    genius = Genius(access_token=\"access_token\")\n",
        "\n",
        "    # Verify the access token was saved\n",
        "    print(genius.access_token)\n"
      ]
    },
    {
      "cell_type": "markdown",
      "id": "bde62e8d",
      "metadata": {},
      "source": [
        "## Exercise 2\n",
        "\n",
        "Reference the `json_data` in the lab. Notice, when we search for an artist name (e.g., \"Missy Elliot\") in Genius, the result is a list of *songs* attributed to that artist. Suppose we want to capture information about the artist themselves.\n",
        "\n",
        "Create a method for our `Genius` class called `.get_artist(search_term)` which does the following:\n",
        "\n",
        "1. Extract the (most likely, \"Primary\") Artist ID from the first \"hit\" of the `search_term`.\n",
        "2. Use the [API path](https://docs.genius.com/#artists-h2) for this Artist ID to pull information about the artist.\n",
        "3. **Return** the dictionary containing the resulting JSON object.\n",
        "\n",
        "For example, the following code should return a dictionary of artist information:\n",
        "\n",
        "```python\n",
        "genius.get_artist(\"Radiohead\")\n",
        "```"
      ]
    },
    {
      "cell_type": "code",
      "execution_count": 5,
      "id": "724ff44b",
      "metadata": {},
      "outputs": [
        {
          "ename": "Exception",
          "evalue": "Search request failed: 401 - {\"error\":\"invalid_token\",\"error_description\":\"The access token provided is expired, revoked, malformed or invalid for other reasons.\"}",
          "output_type": "error",
          "traceback": [
            "\u001b[31m---------------------------------------------------------------------------\u001b[39m",
            "\u001b[31mException\u001b[39m                                 Traceback (most recent call last)",
            "\u001b[36mCell\u001b[39m\u001b[36m \u001b[39m\u001b[32mIn[5]\u001b[39m\u001b[32m, line 41\u001b[39m\n\u001b[32m     38\u001b[39m \u001b[38;5;28;01mif\u001b[39;00m \u001b[34m__name__\u001b[39m == \u001b[33m\"\u001b[39m\u001b[33m__main__\u001b[39m\u001b[33m\"\u001b[39m:\n\u001b[32m     40\u001b[39m     genius = Genius(access_token=ACCESS_TOKEN)\n\u001b[32m---> \u001b[39m\u001b[32m41\u001b[39m     artist_info = \u001b[43mgenius\u001b[49m\u001b[43m.\u001b[49m\u001b[43mget_artist\u001b[49m\u001b[43m(\u001b[49m\u001b[33;43m\"\u001b[39;49m\u001b[33;43mRadiohead\u001b[39;49m\u001b[33;43m\"\u001b[39;49m\u001b[43m)\u001b[49m\n\u001b[32m     43\u001b[39m     \u001b[38;5;66;03m# Print test\u001b[39;00m\n\u001b[32m     44\u001b[39m     \u001b[38;5;28mprint\u001b[39m(artist_info[\u001b[33m\"\u001b[39m\u001b[33mresponse\u001b[39m\u001b[33m\"\u001b[39m][\u001b[33m\"\u001b[39m\u001b[33martist\u001b[39m\u001b[33m\"\u001b[39m][\u001b[33m\"\u001b[39m\u001b[33mname\u001b[39m\u001b[33m\"\u001b[39m])\n",
            "\u001b[36mCell\u001b[39m\u001b[36m \u001b[39m\u001b[32mIn[5]\u001b[39m\u001b[32m, line 22\u001b[39m, in \u001b[36mGenius.get_artist\u001b[39m\u001b[34m(self, search_term)\u001b[39m\n\u001b[32m     19\u001b[39m response = requests.get(genius_search_url)\n\u001b[32m     21\u001b[39m \u001b[38;5;28;01mif\u001b[39;00m response.status_code != \u001b[32m200\u001b[39m:\n\u001b[32m---> \u001b[39m\u001b[32m22\u001b[39m     \u001b[38;5;28;01mraise\u001b[39;00m \u001b[38;5;167;01mException\u001b[39;00m(\u001b[33mf\u001b[39m\u001b[33m\"\u001b[39m\u001b[33mSearch request failed: \u001b[39m\u001b[38;5;132;01m{\u001b[39;00mresponse.status_code\u001b[38;5;132;01m}\u001b[39;00m\u001b[33m - \u001b[39m\u001b[38;5;132;01m{\u001b[39;00mresponse.text\u001b[38;5;132;01m}\u001b[39;00m\u001b[33m\"\u001b[39m)\n\u001b[32m     23\u001b[39m search_results = response.json()\n\u001b[32m     24\u001b[39m \u001b[38;5;28;01mtry\u001b[39;00m:\n",
            "\u001b[31mException\u001b[39m: Search request failed: 401 - {\"error\":\"invalid_token\",\"error_description\":\"The access token provided is expired, revoked, malformed or invalid for other reasons.\"}"
          ]
        }
      ],
      "source": [
        "import requests\n",
        "\n",
        "class Genius:\n",
        "    \"\"\"Class\"\"\"\n",
        "\n",
        "    def __init__(self, access_token):\n",
        "        \"\"\"\n",
        "        Initialize the Genius class.\n",
        "        \"\"\"\n",
        "        self.access_token = access_token\n",
        "        self.base_url = \"http://api.genius.com\"\n",
        "\n",
        "    def get_artist(self, search_term):\n",
        "        \"\"\"\n",
        "        Search for an artist and return their information as a dictionary.\n",
        "        \"\"\"\n",
        "    \n",
        "        genius_search_url = f\"{self.base_url}/search?q={search_term}&access_token={self.access_token}\"\n",
        "        response = requests.get(genius_search_url)\n",
        "\n",
        "        if response.status_code != 200:\n",
        "            raise Exception(f\"Search request failed: {response.status_code} - {response.text}\")\n",
        "        search_results = response.json()\n",
        "        try:\n",
        "            first_hit = search_results[\"response\"][\"hits\"][0][\"result\"]\n",
        "            artist_id = first_hit[\"primary_artist\"][\"id\"]\n",
        "        except (IndexError, KeyError):\n",
        "            raise Exception(\"No artist found for that search term.\")\n",
        "        artist_url = f\"{self.base_url}/artists/{artist_id}?access_token={self.access_token}\"\n",
        "        artist_response = requests.get(artist_url)\n",
        "\n",
        "        if artist_response.status_code != 200:\n",
        "            raise Exception(f\"Artist request failed: {artist_response.status_code} - {artist_response.text}\")\n",
        "        return artist_response.json()\n",
        "\n",
        "\n",
        "# Example usage\n",
        "if __name__ == \"__main__\":\n",
        "\n",
        "    genius = Genius(access_token=ACCESS_TOKEN)\n",
        "    artist_info = genius.get_artist(\"Radiohead\")\n",
        "\n",
        "    # Print test\n",
        "    print(artist_info[\"response\"][\"artist\"][\"name\"])"
      ]
    },
    {
      "cell_type": "markdown",
      "id": "55054b2a",
      "metadata": {},
      "source": [
        "## Exercise 3\n",
        "\n",
        "Use the result from Exercise 2 to create another method for our `Genius` class called `.get_artists(search_terms)` (plural) which takes in a *list* of search terms, and returns a DataFrame containing a row for each search term, and the following columns:\n",
        "\n",
        "- `search_term`: the raw search term from `search_terms`\n",
        "- `artist_name`: the (most likely) artist name for the search term\n",
        "- `artist_id`: the Genius Artist ID for that artist, based on the API call\n",
        "- `followers_count`: the number of followers for that artist (if available)\n",
        "\n",
        "For example, the following should return a DataFrame with 4 rows:\n",
        "\n",
        "```python\n",
        "genius.get_artists(['Rihanna', 'Tycho', 'Seal', 'U2'])\n",
        "```"
      ]
    },
    {
      "cell_type": "code",
      "execution_count": 8,
      "id": "03e14a0a",
      "metadata": {},
      "outputs": [
        {
          "name": "stdout",
          "output_type": "stream",
          "text": [
            "Error retrieving artist 'Rihanna': Search request failed: 401 - {\"error\":\"invalid_token\",\"error_description\":\"The access token provided is expired, revoked, malformed or invalid for other reasons.\"}\n",
            "Error retrieving artist 'Tycho': Search request failed: 401 - {\"error\":\"invalid_token\",\"error_description\":\"The access token provided is expired, revoked, malformed or invalid for other reasons.\"}\n",
            "Error retrieving artist 'Seal': Search request failed: 401 - {\"error\":\"invalid_token\",\"error_description\":\"The access token provided is expired, revoked, malformed or invalid for other reasons.\"}\n",
            "Error retrieving artist 'U2': Search request failed: 401 - {\"error\":\"invalid_token\",\"error_description\":\"The access token provided is expired, revoked, malformed or invalid for other reasons.\"}\n",
            "  search_term artist_name artist_id followers_count\n",
            "0     Rihanna        None      None            None\n",
            "1       Tycho        None      None            None\n",
            "2        Seal        None      None            None\n",
            "3          U2        None      None            None\n"
          ]
        }
      ],
      "source": [
        "import requests\n",
        "import pandas as pd\n",
        "\n",
        "class Genius:\n",
        "    \"\"\"Class\"\"\"\n",
        "\n",
        "    def __init__(self, access_token):\n",
        "        \"\"\"\n",
        "        Initialize the Genius class\n",
        "        \"\"\"\n",
        "        self.access_token = access_token\n",
        "        self.base_url = \"http://api.genius.com\"\n",
        "\n",
        "    def get_artist(self, search_term):\n",
        "        \"\"\"\n",
        "        Search for an artist\n",
        "        \"\"\"\n",
        "        genius_search_url = f\"{self.base_url}/search?q={search_term}&access_token={self.access_token}\"\n",
        "        response = requests.get(genius_search_url)\n",
        "\n",
        "        if response.status_code != 200:\n",
        "            raise Exception(f\"Search request failed: {response.status_code} - {response.text}\")\n",
        "\n",
        "        search_results = response.json()\n",
        "        try:\n",
        "            first_hit = search_results[\"response\"][\"hits\"][0][\"result\"]\n",
        "            artist_id = first_hit[\"primary_artist\"][\"id\"]\n",
        "        except (IndexError, KeyError):\n",
        "            raise Exception(f\"No artist found for search term '{search_term}'.\")\n",
        "        artist_url = f\"{self.base_url}/artists/{artist_id}?access_token={self.access_token}\"\n",
        "        artist_response = requests.get(artist_url)\n",
        "\n",
        "        if artist_response.status_code != 200:\n",
        "            raise Exception(f\"Artist request failed: {artist_response.status_code} - {artist_response.text}\")\n",
        "\n",
        "        return artist_response.json()\n",
        "\n",
        "    def get_artists(self, search_terms):\n",
        "        \"\"\"\n",
        "        Take in a list of search terms \n",
        "        \"\"\"\n",
        "        data = []\n",
        "\n",
        "        for term in search_terms:\n",
        "            try:\n",
        "                artist_data = self.get_artist(term)\n",
        "                artist_info = artist_data[\"response\"][\"artist\"]\n",
        "\n",
        "                data.append({\n",
        "                    \"search_term\": term,\n",
        "                    \"artist_name\": artist_info.get(\"name\"),\n",
        "                    \"artist_id\": artist_info.get(\"id\"),\n",
        "                    \"followers_count\": artist_info.get(\"followers_count\", None)\n",
        "                })\n",
        "\n",
        "            except Exception as e:\n",
        "                data.append({\n",
        "                    \"search_term\": term,\n",
        "                    \"artist_name\": None,\n",
        "                    \"artist_id\": None,\n",
        "                    \"followers_count\": None\n",
        "                })\n",
        "                print(f\"Error retrieving artist '{term}': {e}\")\n",
        "\n",
        "        # Create DataFrame\n",
        "        df = pd.DataFrame(data, columns=[\"search_term\", \"artist_name\", \"artist_id\", \"followers_count\"])\n",
        "        return df\n",
        "\n",
        "\n",
        "# Example usage\n",
        "if __name__ == \"__main__\":\n",
        "   \n",
        "    genius = Genius(access_token=ACCESS_TOKEN)\n",
        "    df = genius.get_artists(['Rihanna', 'Tycho', 'Seal', 'U2'])\n",
        "\n",
        "    print(df)"
      ]
    },
    {
      "cell_type": "markdown",
      "id": "20fd446a",
      "metadata": {},
      "source": [
        "## Bonus Exercise (optional)\n",
        "\n",
        "1. Gather a list of 100+ various musical artists, and save this list in a TXT file.\n",
        "2. Write a Python *script* that saves the result of `.get_artists` for these artists in a CSV file.\n",
        "3. If you have time, adjust this script to use multiprocessing."
      ]
    }
  ],
  "metadata": {
    "colab": {
      "provenance": []
    },
    "kernelspec": {
      "display_name": "base",
      "language": "python",
      "name": "python3"
    },
    "language_info": {
      "codemirror_mode": {
        "name": "ipython",
        "version": 3
      },
      "file_extension": ".py",
      "mimetype": "text/x-python",
      "name": "python",
      "nbconvert_exporter": "python",
      "pygments_lexer": "ipython3",
      "version": "3.11.13"
    }
  },
  "nbformat": 4,
  "nbformat_minor": 5
}
